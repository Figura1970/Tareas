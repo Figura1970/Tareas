{
  "nbformat": 4,
  "nbformat_minor": 0,
  "metadata": {
    "colab": {
      "name": "Codigo_Tema_08.ipynb",
      "provenance": [],
      "collapsed_sections": [],
      "include_colab_link": true
    },
    "kernelspec": {
      "name": "python3",
      "display_name": "Python 3"
    }
  },
  "cells": [
    {
      "cell_type": "markdown",
      "metadata": {
        "id": "view-in-github",
        "colab_type": "text"
      },
      "source": [
        "<a href=\"https://colab.research.google.com/github/Figura1970/Tareas/blob/main/Codigo_Tema_08.ipynb\" target=\"_parent\"><img src=\"https://colab.research.google.com/assets/colab-badge.svg\" alt=\"Open In Colab\"/></a>"
      ]
    },
    {
      "cell_type": "markdown",
      "metadata": {
        "id": "ZY9dVpDaRHHx"
      },
      "source": [
        "# Código Tema 8\r\n",
        "###### Si tienes problema al dar clic en el botón de -Open In Colab-, te recomendamos dar clic derecho en este y luego seleccionar -Abrir en una pestaña nueva-"
      ]
    },
    {
      "cell_type": "markdown",
      "metadata": {
        "id": "Kl2VRBTjRPr-"
      },
      "source": [
        "[![Open In Colab](https://colab.research.google.com/assets/colab-badge.svg)](https://colab.research.google.com/drive/1eTkxAZ2cf0S57I0J8nd8x5llx1JDhzK0?usp=sharing)"
      ]
    },
    {
      "cell_type": "code",
      "metadata": {
        "colab": {
          "base_uri": "https://localhost:8080/"
        },
        "id": "bZbk28B5xQD7",
        "outputId": "59e11374-1467-48a8-a1c4-583a4e272ac6"
      },
      "source": [
        "# Un ciclo es un código que se repite varias veces hasta que se deja \r\n",
        "# de cumplir una condicion\r\n",
        "\r\n",
        "# Iteracion: es el numero de veces que se ha repetido el ciclo\r\n",
        "\r\n",
        "# Ciclo while\r\n",
        "\r\n",
        "# Solicitar un numero par al usuario\r\n",
        "\r\n",
        "Numero = int( input(\"Ingresa un numero par \") )\r\n",
        "\r\n",
        "while Numero % 2 != 0:\r\n",
        "  Numero = int( input(\"DIJE QUE INGRESARAS UN NUMERO PAR!!! \") )\r\n",
        "\r\n",
        "print(\"El numero par es:\", Numero)\r\n"
      ],
      "execution_count": null,
      "outputs": [
        {
          "output_type": "stream",
          "text": [
            "Ingresa un numero par 1\n",
            "DIJE QUE INGRESARAS UN NUMERO PAR!!! 3\n",
            "DIJE QUE INGRESARAS UN NUMERO PAR!!! 5\n",
            "DIJE QUE INGRESARAS UN NUMERO PAR!!! 8\n",
            "El numero par es: 8\n"
          ],
          "name": "stdout"
        }
      ]
    },
    {
      "cell_type": "code",
      "metadata": {
        "colab": {
          "base_uri": "https://localhost:8080/"
        },
        "id": "hhKpDpzP4uaO",
        "outputId": "c8756dbc-4a5d-4e5e-a3ba-bb4ab4727e01"
      },
      "source": [
        "# Imprimiendo numeros del 1 al 5\r\n",
        "\r\n",
        "i = 1\r\n",
        "while i <= 5:\r\n",
        "  print(i)\r\n",
        "  i += 1"
      ],
      "execution_count": 34,
      "outputs": [
        {
          "output_type": "stream",
          "text": [
            "1\n",
            "2\n",
            "3\n",
            "4\n",
            "5\n"
          ],
          "name": "stdout"
        }
      ]
    },
    {
      "cell_type": "code",
      "metadata": {
        "colab": {
          "base_uri": "https://localhost:8080/"
        },
        "id": "H_Ykr71X5RDF",
        "outputId": "20aed091-3052-4359-82ce-7ae5763afaad"
      },
      "source": [
        "# Ciclo for \r\n",
        "\r\n",
        "# ciclo donde el numero de iteraciones normalmente es conocido\r\n",
        "# la variable i toma un valor de la lista\r\n",
        "# en cada iteracion\r\n",
        "\r\n",
        "# Imprimir numeros del 1 al 5\r\n",
        "\r\n",
        "for i in [1,2,3,4,5]:\r\n",
        "  print(i)"
      ],
      "execution_count": 33,
      "outputs": [
        {
          "output_type": "stream",
          "text": [
            "1\n",
            "2\n",
            "3\n",
            "4\n",
            "5\n"
          ],
          "name": "stdout"
        }
      ]
    },
    {
      "cell_type": "code",
      "metadata": {
        "colab": {
          "base_uri": "https://localhost:8080/"
        },
        "id": "HudpoLKB5-yN",
        "outputId": "1ef76cb9-4600-4c3e-9475-42315bf8b1ac"
      },
      "source": [
        "# Funcion range crea un arreglo de numeros\r\n",
        "# range(Inicio, Termina, incremento)\r\n",
        "# range(num) el arreglo va desde cero hasta num - 1 de uno en uno\r\n",
        "\r\n",
        "# Creando una lista con numeros del 0 al 10\r\n",
        "y = range(11)\r\n",
        "print( list(y) )\r\n",
        "\r\n",
        "# Sumatoria de los elementos en x\r\n",
        "x = [1,2,3,5,5]\r\n",
        "Suma = 0\r\n",
        "\r\n",
        "for i in x:\r\n",
        "  Suma += i\r\n",
        "\r\n",
        "print(Suma)\r\n",
        "\r\n",
        "# Sumando de una forma diferente\r\n",
        "\r\n",
        "Suma2 = 0\r\n",
        "for i in range(5):\r\n",
        "  Suma2 +=  x[i]\r\n",
        "\r\n",
        "print(Suma2)"
      ],
      "execution_count": null,
      "outputs": [
        {
          "output_type": "stream",
          "text": [
            "[0, 1, 2, 3, 4, 5, 6, 7, 8, 9, 10]\n",
            "16\n",
            "16\n"
          ],
          "name": "stdout"
        }
      ]
    },
    {
      "cell_type": "code",
      "metadata": {
        "colab": {
          "base_uri": "https://localhost:8080/"
        },
        "id": "kOvwJgPY85e5",
        "outputId": "2df06645-651a-4b01-d333-b70166ed7cb5"
      },
      "source": [
        "x = [5,4,3,2,1]\r\n",
        "\r\n",
        "tamaño = len(x)\r\n",
        "\r\n",
        "print(\"El tamaño de la lista es: \", tamaño)\r\n",
        "\r\n",
        "for i in range(tamaño):\r\n",
        "  if x[i] == 4:\r\n",
        "    print(\"El numero 4 esta en la posicion\",i)\r\n",
        "    break\r\n",
        "\r\n",
        "\r\n",
        "\r\n",
        "print(\"El numero de iteraciones fue: \", i + 1)"
      ],
      "execution_count": null,
      "outputs": [
        {
          "output_type": "stream",
          "text": [
            "El tamaño de la lista es:  5\n",
            "El numero 4 esta en la posicion 1\n",
            "El numero de iteraciones fue:  2\n"
          ],
          "name": "stdout"
        }
      ]
    },
    {
      "cell_type": "markdown",
      "metadata": {
        "id": "91G0CNZ2A_uh"
      },
      "source": [
        "# Tarea\r\n",
        "\r\n",
        "Multiplicar todos los elementos de una matriz ó lista de listas (de minimo 3x3) por un numero (puede ser el que sea menos 1 y 0) mediante ciclos y despues imprimir la nueva lista, pueden usar más de un ciclo o ciclos dentro de otros ciclos, pero mínimo deben de usar un ciclo"
      ]
    },
    {
      "cell_type": "code",
      "metadata": {
        "colab": {
          "base_uri": "https://localhost:8080/"
        },
        "id": "2zuM1rkgA_ih",
        "outputId": "cd30899c-d160-490c-c52f-896d553d0cd7"
      },
      "source": [
        "A = [ [1,2,3],[4,5,6],[7,8,9] ]\r\n",
        "print(A)\r\n",
        "\r\n",
        "print(3*A[0][0])"
      ],
      "execution_count": null,
      "outputs": [
        {
          "output_type": "stream",
          "text": [
            "[[1, 2, 3], [4, 5, 6], [7, 8, 9]]\n",
            "3\n"
          ],
          "name": "stdout"
        }
      ]
    },
    {
      "cell_type": "code",
      "metadata": {
        "id": "CZVZGsMIO38H",
        "outputId": "3b6943b8-d5f4-4317-b290-94257228e675",
        "colab": {
          "base_uri": "https://localhost:8080/"
        }
      },
      "source": [
        "#Inicio \n",
        "A = [ [1,2,3],[4,5,6],[7,8,9] ]\n",
        "\n",
        "# asignar posiciones dentro de la lista\n",
        "# x= posicion de lista\n",
        "# y= posición del elemento en la lista \n",
        "# i= iteracion inicial \n",
        "\n",
        "#tamaño de la lista\n",
        "tA = len(A)\n",
        "print (tA)\n",
        "print (\" \\n \")     #salto de renglon\n",
        "\n",
        "x = 0\n",
        "y = 0\n",
        "\n",
        "while x <= (tA -1):\n",
        "#for x in range (tA):             Puede ser ciclo while o ciclo for\n",
        "  for i in range (tA):\n",
        "     A[x][y + i] = (4*A[x][y + i])\n",
        "     print(A[x][y + i])  \n",
        "  x += 1\n",
        "\n",
        "print (\" \\n \")        #salto de renglon\n",
        "\n",
        " # impresion de cada lista\n",
        "for i in range (tA):\n",
        "  print (A[i])\n",
        "\n",
        "print (\" \\n \")      #salto de renglon\n",
        "\n",
        "# impresion de la lista de la listas\n",
        "print (A)\n",
        "\n"
      ],
      "execution_count": 110,
      "outputs": [
        {
          "output_type": "stream",
          "text": [
            "3\n",
            " \n",
            " \n",
            "4\n",
            "8\n",
            "12\n",
            "16\n",
            "20\n",
            "24\n",
            "28\n",
            "32\n",
            "36\n",
            " \n",
            " \n",
            "[4, 8, 12]\n",
            "[16, 20, 24]\n",
            "[28, 32, 36]\n",
            " \n",
            " \n",
            "[[4, 8, 12], [16, 20, 24], [28, 32, 36]]\n"
          ],
          "name": "stdout"
        }
      ]
    }
  ]
}