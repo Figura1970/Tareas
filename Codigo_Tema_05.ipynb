{
  "nbformat": 4,
  "nbformat_minor": 0,
  "metadata": {
    "colab": {
      "name": "Codigo_Tema_05.ipynb",
      "provenance": [],
      "collapsed_sections": [],
      "include_colab_link": true
    },
    "kernelspec": {
      "name": "python3",
      "display_name": "Python 3"
    }
  },
  "cells": [
    {
      "cell_type": "markdown",
      "metadata": {
        "id": "view-in-github",
        "colab_type": "text"
      },
      "source": [
        "<a href=\"https://colab.research.google.com/github/Figura1970/Tareas/blob/main/Codigo_Tema_05.ipynb\" target=\"_parent\"><img src=\"https://colab.research.google.com/assets/colab-badge.svg\" alt=\"Open In Colab\"/></a>"
      ]
    },
    {
      "cell_type": "markdown",
      "metadata": {
        "id": "ZKbsKwEqaGi0"
      },
      "source": [
        "# Código tema 05"
      ]
    },
    {
      "cell_type": "markdown",
      "metadata": {
        "id": "rEa2a2-qHvqJ"
      },
      "source": [
        "__Si tienes problema al dar clic en el botón de \"_Open in Colab_\", te recomendamos dar clic derecho en este y luego seleccionar \"_Abrir en una pestaña nueva_\"__"
      ]
    },
    {
      "cell_type": "markdown",
      "metadata": {
        "id": "9hHt5yASHc0O"
      },
      "source": [
        "[![Open In Colab](https://colab.research.google.com/assets/colab-badge.svg)](https://colab.research.google.com/drive/17C1oMa2uWyrk7KknBNVNCKXyqTlCUxYR#scrollTo=9hHt5yASHc0O)"
      ]
    },
    {
      "cell_type": "markdown",
      "metadata": {
        "id": "vwM6o1yVaNMw"
      },
      "source": [
        "# Indices en listas"
      ]
    },
    {
      "cell_type": "code",
      "metadata": {
        "colab": {
          "base_uri": "https://localhost:8080/"
        },
        "id": "R7T9-ntGaKCo",
        "outputId": "2f7c9037-60e8-4c7a-af16-7a5183d896f9"
      },
      "source": [
        "A = [89, 2, 3, 4, 5]\r\n",
        "A"
      ],
      "execution_count": null,
      "outputs": [
        {
          "output_type": "execute_result",
          "data": {
            "text/plain": [
              "[89, 2, 3, 4, 5]"
            ]
          },
          "metadata": {
            "tags": []
          },
          "execution_count": 7
        }
      ]
    },
    {
      "cell_type": "code",
      "metadata": {
        "colab": {
          "base_uri": "https://localhost:8080/"
        },
        "id": "-EulVU9UasZD",
        "outputId": "c5d12cd2-4c76-4dcd-9580-57c1db7daae4"
      },
      "source": [
        "A[0] = 1\r\n",
        "A"
      ],
      "execution_count": null,
      "outputs": [
        {
          "output_type": "execute_result",
          "data": {
            "text/plain": [
              "[1, 2, 3, 4, 5]"
            ]
          },
          "metadata": {
            "tags": []
          },
          "execution_count": 8
        }
      ]
    },
    {
      "cell_type": "code",
      "metadata": {
        "colab": {
          "base_uri": "https://localhost:8080/"
        },
        "id": "Tkv69sgRaywo",
        "outputId": "758b9dde-c671-4689-e656-d9db835d735c"
      },
      "source": [
        "A[4] = 109\r\n",
        "A"
      ],
      "execution_count": null,
      "outputs": [
        {
          "output_type": "execute_result",
          "data": {
            "text/plain": [
              "[1, 2, 3, 4, 109]"
            ]
          },
          "metadata": {
            "tags": []
          },
          "execution_count": 9
        }
      ]
    },
    {
      "cell_type": "markdown",
      "metadata": {
        "id": "j8pQfHDga5b3"
      },
      "source": [
        "# Añadir elementos a listas"
      ]
    },
    {
      "cell_type": "code",
      "metadata": {
        "colab": {
          "base_uri": "https://localhost:8080/"
        },
        "id": "dcfTvtbsa4wx",
        "outputId": "feebbbc1-717b-4222-9308-231e1e3fd8f3"
      },
      "source": [
        "B = [1,2,3]\r\n",
        "B"
      ],
      "execution_count": null,
      "outputs": [
        {
          "output_type": "execute_result",
          "data": {
            "text/plain": [
              "[1, 2, 3]"
            ]
          },
          "metadata": {
            "tags": []
          },
          "execution_count": 13
        }
      ]
    },
    {
      "cell_type": "markdown",
      "metadata": {
        "id": "EHRFR72jbTyQ"
      },
      "source": [
        ""
      ]
    },
    {
      "cell_type": "code",
      "metadata": {
        "colab": {
          "base_uri": "https://localhost:8080/"
        },
        "id": "oF3KeE4ibEd8",
        "outputId": "f337605e-a3ed-4334-8cf1-387b1255a942"
      },
      "source": [
        "B.append(4)\r\n",
        "B"
      ],
      "execution_count": null,
      "outputs": [
        {
          "output_type": "execute_result",
          "data": {
            "text/plain": [
              "[1, 2, 3, 4]"
            ]
          },
          "metadata": {
            "tags": []
          },
          "execution_count": 14
        }
      ]
    },
    {
      "cell_type": "code",
      "metadata": {
        "colab": {
          "base_uri": "https://localhost:8080/"
        },
        "id": "Hzv0k7cCbLT-",
        "outputId": "79dd942b-7b3a-488d-b388-cbf2321ebf5c"
      },
      "source": [
        "C = []\r\n",
        "C"
      ],
      "execution_count": null,
      "outputs": [
        {
          "output_type": "execute_result",
          "data": {
            "text/plain": [
              "[]"
            ]
          },
          "metadata": {
            "tags": []
          },
          "execution_count": 26
        }
      ]
    },
    {
      "cell_type": "code",
      "metadata": {
        "colab": {
          "base_uri": "https://localhost:8080/"
        },
        "id": "u-Q6SFtZbXlU",
        "outputId": "44a303b3-260e-4c45-886b-336fdffa5168"
      },
      "source": [
        "C.append([1,2,3])\r\n",
        "C"
      ],
      "execution_count": null,
      "outputs": [
        {
          "output_type": "execute_result",
          "data": {
            "text/plain": [
              "[[1, 2, 3]]"
            ]
          },
          "metadata": {
            "tags": []
          },
          "execution_count": 27
        }
      ]
    },
    {
      "cell_type": "code",
      "metadata": {
        "colab": {
          "base_uri": "https://localhost:8080/"
        },
        "id": "W59VADFHbeA2",
        "outputId": "5cfdab14-dc21-43de-9075-2709cea1c3b1"
      },
      "source": [
        "C.append([4,5,6])\r\n",
        "C.append([7,8,9])\r\n",
        "C"
      ],
      "execution_count": null,
      "outputs": [
        {
          "output_type": "execute_result",
          "data": {
            "text/plain": [
              "[[1, 2, 3], [4, 5, 6], [7, 8, 9]]"
            ]
          },
          "metadata": {
            "tags": []
          },
          "execution_count": 28
        }
      ]
    },
    {
      "cell_type": "markdown",
      "metadata": {
        "id": "GzRDXlCUcvQy"
      },
      "source": [
        ""
      ]
    },
    {
      "cell_type": "markdown",
      "metadata": {
        "id": "xnzvrg_xb_hT"
      },
      "source": [
        "# Operaciones a listas"
      ]
    },
    {
      "cell_type": "code",
      "metadata": {
        "colab": {
          "base_uri": "https://localhost:8080/"
        },
        "id": "MI3EqyN9cCjo",
        "outputId": "ed55ed13-2771-4347-e3f8-a93c35886f25"
      },
      "source": [
        "print(C[2][2])"
      ],
      "execution_count": null,
      "outputs": [
        {
          "output_type": "stream",
          "text": [
            "9\n"
          ],
          "name": "stdout"
        }
      ]
    },
    {
      "cell_type": "code",
      "metadata": {
        "colab": {
          "base_uri": "https://localhost:8080/"
        },
        "id": "JMGxlO4AcmJh",
        "outputId": "1e129c03-0d4e-424a-ec5d-19508fa38019"
      },
      "source": [
        "D = [1,2,3,4,5,6,7,8,9,10]\r\n",
        "D"
      ],
      "execution_count": null,
      "outputs": [
        {
          "output_type": "execute_result",
          "data": {
            "text/plain": [
              "[1, 2, 3, 4, 5, 6, 7, 8, 9, 10]"
            ]
          },
          "metadata": {
            "tags": []
          },
          "execution_count": 33
        }
      ]
    },
    {
      "cell_type": "code",
      "metadata": {
        "colab": {
          "base_uri": "https://localhost:8080/"
        },
        "id": "B64fFwk4c3sQ",
        "outputId": "b5f8057b-feff-43ee-d883-435b63c1f63b"
      },
      "source": [
        "Suma = sum(D)\r\n",
        "Suma"
      ],
      "execution_count": null,
      "outputs": [
        {
          "output_type": "execute_result",
          "data": {
            "text/plain": [
              "55"
            ]
          },
          "metadata": {
            "tags": []
          },
          "execution_count": 34
        }
      ]
    },
    {
      "cell_type": "code",
      "metadata": {
        "colab": {
          "base_uri": "https://localhost:8080/"
        },
        "id": "PHLMJBPldOGA",
        "outputId": "fc754b08-f30d-4bb6-b112-9d0f12808734"
      },
      "source": [
        "Longitud = len(D)\r\n",
        "Longitud"
      ],
      "execution_count": null,
      "outputs": [
        {
          "output_type": "execute_result",
          "data": {
            "text/plain": [
              "10"
            ]
          },
          "metadata": {
            "tags": []
          },
          "execution_count": 35
        }
      ]
    },
    {
      "cell_type": "markdown",
      "metadata": {
        "id": "2W8-lX0md1ID"
      },
      "source": [
        "# Promedio de un arreglo"
      ]
    },
    {
      "cell_type": "code",
      "metadata": {
        "colab": {
          "base_uri": "https://localhost:8080/"
        },
        "id": "2IXC8AsodZuQ",
        "outputId": "8b2f1e02-a9cf-4fa3-e2ba-2dde5b51876a"
      },
      "source": [
        "#Primera forma\r\n",
        "Promedio = sum(D)/len(D)\r\n",
        "Promedio"
      ],
      "execution_count": null,
      "outputs": [
        {
          "output_type": "execute_result",
          "data": {
            "text/plain": [
              "5.5"
            ]
          },
          "metadata": {
            "tags": []
          },
          "execution_count": 36
        }
      ]
    },
    {
      "cell_type": "code",
      "metadata": {
        "colab": {
          "base_uri": "https://localhost:8080/"
        },
        "id": "hArT4sopdg5P",
        "outputId": "922c2c89-e98a-47d2-ab31-ae1dd8fe8f7b"
      },
      "source": [
        "#Segunda forma\r\n",
        "import statistics\r\n",
        "Promedio_2 = statistics.mean(D)\r\n",
        "Promedio_2"
      ],
      "execution_count": null,
      "outputs": [
        {
          "output_type": "execute_result",
          "data": {
            "text/plain": [
              "5.5"
            ]
          },
          "metadata": {
            "tags": []
          },
          "execution_count": 38
        }
      ]
    },
    {
      "cell_type": "markdown",
      "metadata": {
        "id": "29JgTERmeDzb"
      },
      "source": [
        "# Listas con strings"
      ]
    },
    {
      "cell_type": "code",
      "metadata": {
        "colab": {
          "base_uri": "https://localhost:8080/"
        },
        "id": "mqag-_Yhd-31",
        "outputId": "3f9fbd50-50d2-476d-9ac3-1105ca0a860e"
      },
      "source": [
        "Strings = ['abc', 'def', 'ghi', 'jkl']\r\n",
        "print(Strings[3][2])"
      ],
      "execution_count": null,
      "outputs": [
        {
          "output_type": "stream",
          "text": [
            "l\n"
          ],
          "name": "stdout"
        }
      ]
    },
    {
      "cell_type": "code",
      "metadata": {
        "colab": {
          "base_uri": "https://localhost:8080/"
        },
        "id": "3CUBlRWRecKs",
        "outputId": "3db41689-404d-441a-80d6-4b96ff15622a"
      },
      "source": [
        "Longitud = len(Strings)\r\n",
        "Longitud"
      ],
      "execution_count": null,
      "outputs": [
        {
          "output_type": "execute_result",
          "data": {
            "text/plain": [
              "4"
            ]
          },
          "metadata": {
            "tags": []
          },
          "execution_count": 43
        }
      ]
    },
    {
      "cell_type": "code",
      "metadata": {
        "colab": {
          "base_uri": "https://localhost:8080/"
        },
        "id": "mV3MpnOlej1N",
        "outputId": "1fae32fb-f24a-404a-c42c-156377ce9ac5"
      },
      "source": [
        "print(Strings[2][0:2])"
      ],
      "execution_count": null,
      "outputs": [
        {
          "output_type": "stream",
          "text": [
            "gh\n"
          ],
          "name": "stdout"
        }
      ]
    },
    {
      "cell_type": "markdown",
      "metadata": {
        "id": "RgRY2_dufE8T"
      },
      "source": [
        "# Diccionarios"
      ]
    },
    {
      "cell_type": "code",
      "metadata": {
        "id": "6OhS8rFufHsT"
      },
      "source": [
        "Datos_alumno = {\r\n",
        "    'Nombre' : 'Octavio',\r\n",
        "    'Apellido': 'Paz',\r\n",
        "    'Matricula' : '123456',\r\n",
        "    'Horario' : 'Matutino',\r\n",
        "    'Beca' : 'Si'\r\n",
        "}"
      ],
      "execution_count": null,
      "outputs": []
    },
    {
      "cell_type": "code",
      "metadata": {
        "colab": {
          "base_uri": "https://localhost:8080/"
        },
        "id": "AWpBPX2afWTe",
        "outputId": "1661c495-ea35-41ff-a038-a874129fcfbf"
      },
      "source": [
        "print(Datos_alumno['Matricula'])\r\n",
        "print(Datos_alumno['Apellido'])\r\n",
        "print(Datos_alumno['Beca'])"
      ],
      "execution_count": null,
      "outputs": [
        {
          "output_type": "stream",
          "text": [
            "123456\n",
            "Paz\n",
            "Si\n"
          ],
          "name": "stdout"
        }
      ]
    },
    {
      "cell_type": "code",
      "metadata": {
        "id": "6lA5OPQCfwD5"
      },
      "source": [
        "Datos_alumno.update({'Materias':['Fisica', 'Quimica', 'Programacion']})"
      ],
      "execution_count": null,
      "outputs": []
    },
    {
      "cell_type": "code",
      "metadata": {
        "colab": {
          "base_uri": "https://localhost:8080/"
        },
        "id": "BtBgOxrdgA_o",
        "outputId": "bf4a2750-4a37-4d28-8667-876d9178421f"
      },
      "source": [
        "Datos_alumno"
      ],
      "execution_count": null,
      "outputs": [
        {
          "output_type": "execute_result",
          "data": {
            "text/plain": [
              "{'Apellido': 'Paz',\n",
              " 'Beca': 'Si',\n",
              " 'Horario': 'Matutino',\n",
              " 'Materias': ['Fisica', 'Quimica', 'Programacion'],\n",
              " 'Matricula': '123456',\n",
              " 'Nombre': 'Octavio'}"
            ]
          },
          "metadata": {
            "tags": []
          },
          "execution_count": 52
        }
      ]
    },
    {
      "cell_type": "code",
      "metadata": {
        "colab": {
          "base_uri": "https://localhost:8080/"
        },
        "id": "Me6tuXxEgH1f",
        "outputId": "829b2cc5-118d-4461-f30e-3ed9702bbc7b"
      },
      "source": [
        "print(Datos_alumno['Materias'])\r\n",
        "print(Datos_alumno['Materias'][0:2])"
      ],
      "execution_count": null,
      "outputs": [
        {
          "output_type": "stream",
          "text": [
            "['Fisica', 'Quimica', 'Programacion']\n",
            "['Fisica', 'Quimica']\n"
          ],
          "name": "stdout"
        }
      ]
    },
    {
      "cell_type": "markdown",
      "metadata": {
        "id": "4gzNtUevgZKg"
      },
      "source": [
        "# Diccionarios anidados"
      ]
    },
    {
      "cell_type": "code",
      "metadata": {
        "id": "srYGZDUsgb7o"
      },
      "source": [
        "Pacientes = [\r\n",
        "    {\r\n",
        "     'Nombre':'Juan',\r\n",
        "     'Seguro':'Si',\r\n",
        "     'ID_seguro':'987654321',\r\n",
        "     'Covid':'Si',\r\n",
        "     'G_sanguineo':'AB+'\r\n",
        "    },\r\n",
        "\r\n",
        "    {\r\n",
        "     'Nombre':'Maria',\r\n",
        "     'Seguro':'Si',\r\n",
        "     'ID_seguro':'123456789',\r\n",
        "     'Covid':'No',\r\n",
        "     'G_sanguineo':'A+'\r\n",
        "    },\r\n",
        "\r\n",
        "    {\r\n",
        "     'Nombre':'Ernesto',\r\n",
        "     'Seguro':'No',\r\n",
        "     'ID_seguro':'N/A',\r\n",
        "     'Covid':'No',\r\n",
        "     'G_sanguineo':'B+',\r\n",
        "    }\r\n",
        "]"
      ],
      "execution_count": null,
      "outputs": []
    },
    {
      "cell_type": "code",
      "metadata": {
        "colab": {
          "base_uri": "https://localhost:8080/"
        },
        "id": "CRs9Ti1jgsBG",
        "outputId": "3c9b8b5b-7491-4d45-9898-d29543700246"
      },
      "source": [
        "print(Pacientes[1]['Nombre'])\r\n",
        "print(Pacientes[1]['Seguro'])\r\n",
        "print(Pacientes[1]['ID_seguro'])"
      ],
      "execution_count": null,
      "outputs": [
        {
          "output_type": "stream",
          "text": [
            "Maria\n",
            "Si\n",
            "123456789\n"
          ],
          "name": "stdout"
        }
      ]
    },
    {
      "cell_type": "code",
      "metadata": {
        "colab": {
          "base_uri": "https://localhost:8080/"
        },
        "id": "8omZBDDghVvb",
        "outputId": "831d67a6-fff3-4ba8-f2d0-369fa56c4513"
      },
      "source": [
        "print(Pacientes[2]['Seguro'])\r\n",
        "print(Pacientes[2]['Covid'])\r\n",
        "print(Pacientes[2]['G_sanguineo'])"
      ],
      "execution_count": null,
      "outputs": [
        {
          "output_type": "stream",
          "text": [
            "No\n",
            "No\n",
            "B+\n"
          ],
          "name": "stdout"
        }
      ]
    },
    {
      "cell_type": "code",
      "metadata": {
        "colab": {
          "base_uri": "https://localhost:8080/"
        },
        "id": "w-seZkp4hind",
        "outputId": "0a857129-e63b-451f-d6ce-ec6ae3abb67e"
      },
      "source": [
        "print(Pacientes[0]['G_sanguineo'])"
      ],
      "execution_count": null,
      "outputs": [
        {
          "output_type": "stream",
          "text": [
            "AB+\n"
          ],
          "name": "stdout"
        }
      ]
    },
    {
      "cell_type": "markdown",
      "metadata": {
        "id": "32s4zDYOiAZA"
      },
      "source": [
        "# Tarea\r\n",
        "* Anidar diccionarios (mínimo 2).\r\n",
        "* Que el programa solicite que teclees el valor de las variables, (usar el método de _input()_)\r\n",
        "* Si ingresas enteros o flotantes, que los convierta a su tipo correspondiente (usar entonces _int()_ o _float()_)\r\n",
        "* Luego estas se agreguen al diccionario con el método _update()_\r\n",
        "\r\n",
        "Si tienes alguna duda o comentario, no dudes en dejarlo en el _Issue_ asociado a la __Clase 03__.\r\n",
        "\r\n",
        "Recuerda revisar las clases anteriores si las dudas persisten. ¡Mucha suerte!\r\n",
        "\r\n",
        "\r\n",
        "_(En el caso de que surgieran muchas dudas, se colocará un ejemplo de cómo se debío haber resulto esta tarea.)_"
      ]
    },
    {
      "cell_type": "code",
      "metadata": {
        "id": "gqAFxcKnitR1",
        "colab": {
          "base_uri": "https://localhost:8080/"
        },
        "outputId": "32fd37b2-4517-4cfd-8a0c-237b559131ea"
      },
      "source": [
        "# SOLICITAR INFORMACION\n",
        "\n",
        "# PRIMER ENTRADA\n",
        "NOM1 = input(\"POR FAVOR ESCRIBE TU NOMBRE: \")\n",
        "APEL1 = input(\"POR FAVOR ESCRIBE TU APELLIDO: \")\n",
        "PLACA1 = input(\"ESCRIBE TUS PLACAS: \")\n",
        "MOD1 = input(\"QUE MODELO ES TU CARRO: \")\n",
        "AÑO1 = int(input(\"QUE AÑO ES TU CARRO: \" ))\n",
        "\n",
        "# SEGUNDA ENTRADA\n",
        "NOM2 = input(\"\\nPOR FAVOR ESCRIBE TU NOMBRE: \")\n",
        "APEL2 = input(\"POR FAVOR ESCRIBE TU APELLIDO: \")\n",
        "PLACA2 = input(\"ESCRIBE TUS PLACAS: \")\n",
        "MOD2 = input(\"QUE MODELO ES TU CARRO: \")\n",
        "AÑO2 = int(input(\"QUE AÑO ES TU CARRO: \"))\n",
        "\n",
        "#TERCER ENTRADA\n",
        "NOM3 = input(\"\\nPOR FAVOR ESCRIBE TU NOMBRE: \")\n",
        "APEL3 = input(\"POR FAVOR ESCRIBE TU APELLIDO: \")\n",
        "PLACA3 = input(\"ESCRIBE TUS PLACAS: \")\n",
        "MOD3 = input(\"QUE MODELO ES TU CARRO: \")\n",
        "AÑO3 = int(input(\"QUE AÑO ES TU CARRO: \"))\n",
        "\n",
        "#MANEJO DE DATOS\n",
        "\n",
        "#CONCATENAR NOMBRES\n",
        "NOM_COMP1 = NOM1 + \" \" + APEL1\n",
        "NOM_COMP2 = NOM2 + \" \" + APEL2\n",
        "NOM_COMP3 = NOM3 + \" \" + APEL3\n",
        "\n",
        "#IMPRIMIR NOMBRES COMPLETOS PRUEBA\n",
        "#print (\"\\n\")\n",
        "#print (NOM_COMP1)\n",
        "#print (NOM_COMP2)\n",
        "#print (NOM_COMP3)\n",
        "\n",
        "#CREAR DIRECTORIO \n",
        "Directorio1 = { \n",
        "    \"Nombre\" : NOM_COMP1,\n",
        "    \"Placa\" : PLACA1,\n",
        "    \"Modelo\" : MOD1,\n",
        "    \"Año\" : AÑO1,\n",
        "}\n",
        "Directorio2 = { \n",
        "    \"Nombre\" : NOM_COMP2,\n",
        "    \"Placa\" : PLACA2,\n",
        "    \"Modelo\" : MOD2,\n",
        "    \"Año\" : AÑO2,\n",
        "}\n",
        "Directorio3 = { \n",
        "    \"Nombre\" : NOM_COMP3,\n",
        "    \"Placa\" : PLACA3,\n",
        "    \"Modelo\" : MOD3,\n",
        "    \"Año\" : AÑO3,\n",
        "}\n",
        "\n",
        "#IMPRIMIR DIRECTORIO 1 PRUEBA\n",
        "print (\"\\n\")\n",
        "print (Directorio1[\"Nombre\"])\n",
        "print (Directorio1[\"Modelo\"])  \n",
        "print (Directorio1[\"Año\"])\n",
        "\n",
        "# ANIDAR DIRECTORIOS\n",
        "DirectorioGral = [Directorio1, Directorio2, Directorio3]\n",
        "\n",
        "#IMPRIMIR DIRECTORIO GENERAL PRUEBA\n",
        "print (\"\\n\")\n",
        "print (DirectorioGral [0][\"Nombre\"])\n",
        "print (DirectorioGral [0][\"Placa\"])\n",
        "print (DirectorioGral [1][\"Nombre\"])\n",
        "print (DirectorioGral [1][\"Placa\"])\n",
        "print (DirectorioGral [2][\"Nombre\"])\n",
        "print (DirectorioGral [2][\"Placa\"])\n",
        "\n",
        "#AGREGAR UNA VARIABLE PARA LOS DIRECTORIOS\n",
        "print (\"\\n\")\n",
        "print (NOM_COMP1,\"¿PAGASTE TU TENENCIA ESTE AÑO?\")\n",
        "PT1 = input ()\n",
        "print (NOM_COMP2,\"¿PAGASTE TU TENENCIA ESTE AÑO?\")\n",
        "PT2 = input ()\n",
        "print (NOM_COMP3,\"¿PAGASTE TU TENENCIA ESTE AÑO?\")\n",
        "PT3 = input ()\n",
        "\n",
        "#AGRAGAR LA VARIABLE A LOS DIRECTORIOS\n",
        "Directorio1.update({\"Pago de Tenencia\" : [PT1]})\n",
        "Directorio2.update({\"Pago de Tenencia\" : [PT2]})\n",
        "Directorio3.update({\"Pago de Tenencia\" : [PT3]})\n",
        "\n",
        "#IMPRIMIR DIRECTORIO GENERAL VARIABLE AGREGADA PRUEBA\n",
        "print (\"\\n\")\n",
        "print (DirectorioGral [0][\"Nombre\"])\n",
        "print (DirectorioGral [0][\"Pago de Tenencia\"])\n",
        "print (DirectorioGral [1][\"Nombre\"])\n",
        "print (DirectorioGral [1][\"Pago de Tenencia\"])\n",
        "print (DirectorioGral [2][\"Nombre\"])\n",
        "print (DirectorioGral [2][\"Pago de Tenencia\"])\n",
        "\n",
        "\n",
        "\n"
      ],
      "execution_count": 41,
      "outputs": [
        {
          "output_type": "stream",
          "text": [
            "POR FAVOR ESCRIBE TU NOMBRE: PACO\n",
            "POR FAVOR ESCRIBE TU APELLIDO: FIGU\n",
            "ESCRIBE TUS PLACAS: Abc123\n",
            "QUE MODELO ES TU CARRO: aveo\n",
            "QUE AÑO ES TU CARRO: 2018\n",
            "\n",
            "POR FAVOR ESCRIBE TU NOMBRE: kiko\n",
            "POR FAVOR ESCRIBE TU APELLIDO: DIAZ\n",
            "ESCRIBE TUS PLACAS: POL098\n",
            "QUE MODELO ES TU CARRO: WV\n",
            "QUE AÑO ES TU CARRO: 2020\n",
            "\n",
            "POR FAVOR ESCRIBE TU NOMBRE: FRANK\n",
            "POR FAVOR ESCRIBE TU APELLIDO: LUNA\n",
            "ESCRIBE TUS PLACAS: QWE567\n",
            "QUE MODELO ES TU CARRO: NISSA\n",
            "QUE AÑO ES TU CARRO: 2021\n",
            "\n",
            "\n",
            "PACO FIGU\n",
            "aveo\n",
            "2018\n",
            "\n",
            "\n",
            "PACO FIGU\n",
            "Abc123\n",
            "kiko DIAZ\n",
            "POL098\n",
            "FRANK LUNA\n",
            "QWE567\n",
            "\n",
            "\n",
            "PACO FIGU ¿PAGASTE TU TENENCIA ESTE AÑO?\n",
            "SI\n",
            "kiko DIAZ ¿PAGASTE TU TENENCIA ESTE AÑO?\n",
            "NO\n",
            "FRANK LUNA ¿PAGASTE TU TENENCIA ESTE AÑO?\n",
            "SI\n",
            "\n",
            "\n",
            "PACO FIGU\n",
            "['SI']\n",
            "kiko DIAZ\n",
            "['NO']\n",
            "FRANK LUNA\n",
            "['SI']\n"
          ],
          "name": "stdout"
        }
      ]
    }
  ]
}